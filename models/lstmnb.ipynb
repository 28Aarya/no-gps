{
 "cells": [
  {
   "cell_type": "code",
   "execution_count": 13,
   "metadata": {
    "execution": {
     "iopub.execute_input": "2025-07-13T17:58:02.299536Z",
     "iopub.status.busy": "2025-07-13T17:58:02.299189Z",
     "iopub.status.idle": "2025-07-13T17:58:02.305973Z",
     "shell.execute_reply": "2025-07-13T17:58:02.305019Z",
     "shell.execute_reply.started": "2025-07-13T17:58:02.299509Z"
    },
    "trusted": true
   },
   "outputs": [
    {
     "name": "stdout",
     "output_type": "stream",
     "text": [
      "Using: cuda\n"
     ]
    }
   ],
   "source": [
    "import torch\n",
    "import torch.nn as nn\n",
    "import torch.optim as optim\n",
    "import torch.utils.data as data\n",
    "import math\n",
    "import copy\n",
    "import pandas as pd\n",
    "import numpy as np\n",
    "import matplotlib.pyplot as plt\n",
    "from sklearn.model_selection import train_test_split\n",
    "from sklearn.metrics import mean_squared_error\n",
    "from sklearn.preprocessing import StandardScaler\n",
    "from torch.utils.data import DataLoader, TensorDataset\n",
    "from sklearn.metrics import mean_squared_error\n",
    "\n",
    "device = torch.device(\"cuda\" if torch.cuda.is_available() else \"cpu\")\n",
    "print(\"Using:\", device)\n"
   ]
  },
  {
   "cell_type": "code",
   "execution_count": 14,
   "metadata": {
    "execution": {
     "iopub.execute_input": "2025-07-13T17:58:02.307325Z",
     "iopub.status.busy": "2025-07-13T17:58:02.307050Z",
     "iopub.status.idle": "2025-07-13T17:58:03.346502Z",
     "shell.execute_reply": "2025-07-13T17:58:03.345672Z",
     "shell.execute_reply.started": "2025-07-13T17:58:02.307296Z"
    },
    "trusted": true
   },
   "outputs": [
    {
     "data": {
      "text/html": [
       "<div>\n",
       "<style scoped>\n",
       "    .dataframe tbody tr th:only-of-type {\n",
       "        vertical-align: middle;\n",
       "    }\n",
       "\n",
       "    .dataframe tbody tr th {\n",
       "        vertical-align: top;\n",
       "    }\n",
       "\n",
       "    .dataframe thead th {\n",
       "        text-align: right;\n",
       "    }\n",
       "</style>\n",
       "<table border=\"1\" class=\"dataframe\">\n",
       "  <thead>\n",
       "    <tr style=\"text-align: right;\">\n",
       "      <th></th>\n",
       "      <th>time</th>\n",
       "      <th>icao24</th>\n",
       "      <th>lat</th>\n",
       "      <th>lon</th>\n",
       "      <th>velocity</th>\n",
       "      <th>heading</th>\n",
       "      <th>vertrate</th>\n",
       "      <th>baroaltitude</th>\n",
       "      <th>hour</th>\n",
       "    </tr>\n",
       "  </thead>\n",
       "  <tbody>\n",
       "    <tr>\n",
       "      <th>0</th>\n",
       "      <td>1734701441</td>\n",
       "      <td>8965d2</td>\n",
       "      <td>25.275925</td>\n",
       "      <td>55.248261</td>\n",
       "      <td>137.182066</td>\n",
       "      <td>245.164832</td>\n",
       "      <td>11.37920</td>\n",
       "      <td>1066.8</td>\n",
       "      <td>1734699600</td>\n",
       "    </tr>\n",
       "    <tr>\n",
       "      <th>1</th>\n",
       "      <td>1734701442</td>\n",
       "      <td>8965d2</td>\n",
       "      <td>25.275925</td>\n",
       "      <td>55.248261</td>\n",
       "      <td>137.182066</td>\n",
       "      <td>245.164832</td>\n",
       "      <td>11.37920</td>\n",
       "      <td>1066.8</td>\n",
       "      <td>1734699600</td>\n",
       "    </tr>\n",
       "    <tr>\n",
       "      <th>2</th>\n",
       "      <td>1734701443</td>\n",
       "      <td>8965d2</td>\n",
       "      <td>25.275925</td>\n",
       "      <td>55.248261</td>\n",
       "      <td>137.182066</td>\n",
       "      <td>245.164832</td>\n",
       "      <td>11.05408</td>\n",
       "      <td>1066.8</td>\n",
       "      <td>1734699600</td>\n",
       "    </tr>\n",
       "    <tr>\n",
       "      <th>3</th>\n",
       "      <td>1734701444</td>\n",
       "      <td>8965d2</td>\n",
       "      <td>25.275925</td>\n",
       "      <td>55.248261</td>\n",
       "      <td>137.182066</td>\n",
       "      <td>245.164832</td>\n",
       "      <td>11.05408</td>\n",
       "      <td>1066.8</td>\n",
       "      <td>1734699600</td>\n",
       "    </tr>\n",
       "    <tr>\n",
       "      <th>4</th>\n",
       "      <td>1734701445</td>\n",
       "      <td>8965d2</td>\n",
       "      <td>25.275925</td>\n",
       "      <td>55.248261</td>\n",
       "      <td>137.182066</td>\n",
       "      <td>245.164832</td>\n",
       "      <td>11.05408</td>\n",
       "      <td>1066.8</td>\n",
       "      <td>1734699600</td>\n",
       "    </tr>\n",
       "  </tbody>\n",
       "</table>\n",
       "</div>"
      ],
      "text/plain": [
       "         time  icao24        lat        lon    velocity     heading  vertrate  \\\n",
       "0  1734701441  8965d2  25.275925  55.248261  137.182066  245.164832  11.37920   \n",
       "1  1734701442  8965d2  25.275925  55.248261  137.182066  245.164832  11.37920   \n",
       "2  1734701443  8965d2  25.275925  55.248261  137.182066  245.164832  11.05408   \n",
       "3  1734701444  8965d2  25.275925  55.248261  137.182066  245.164832  11.05408   \n",
       "4  1734701445  8965d2  25.275925  55.248261  137.182066  245.164832  11.05408   \n",
       "\n",
       "   baroaltitude        hour  \n",
       "0        1066.8  1734699600  \n",
       "1        1066.8  1734699600  \n",
       "2        1066.8  1734699600  \n",
       "3        1066.8  1734699600  \n",
       "4        1066.8  1734699600  "
      ]
     },
     "execution_count": 14,
     "metadata": {},
     "output_type": "execute_result"
    }
   ],
   "source": [
    "df = pd.read_csv(\"/kaggle/input/telaaviv/dxb_telaviv_8965d2_cleaned.csv\")\n",
    "df.head()"
   ]
  },
  {
   "cell_type": "code",
   "execution_count": null,
   "metadata": {
    "execution": {
     "iopub.execute_input": "2025-07-13T17:58:03.348012Z",
     "iopub.status.busy": "2025-07-13T17:58:03.347752Z",
     "iopub.status.idle": "2025-07-13T17:58:03.356812Z",
     "shell.execute_reply": "2025-07-13T17:58:03.356186Z",
     "shell.execute_reply.started": "2025-07-13T17:58:03.347987Z"
    },
    "trusted": true
   },
   "outputs": [],
   "source": [
    "features = ['lat', 'lon', 'baroaltitude']\n",
    "seq_len = 10\n",
    "target_idx = 0  \n",
    "data = df[features].values"
   ]
  },
  {
   "cell_type": "code",
   "execution_count": 16,
   "metadata": {
    "execution": {
     "iopub.execute_input": "2025-07-13T17:58:03.357880Z",
     "iopub.status.busy": "2025-07-13T17:58:03.357636Z",
     "iopub.status.idle": "2025-07-13T17:58:04.581567Z",
     "shell.execute_reply": "2025-07-13T17:58:04.580826Z",
     "shell.execute_reply.started": "2025-07-13T17:58:03.357861Z"
    },
    "trusted": true
   },
   "outputs": [],
   "source": [
    "def create_sequences(data, target_idx, seq_len):\n",
    "    X, y = [], []\n",
    "    for i in range(len(data) - seq_len):\n",
    "        X.append(data[i:i+seq_len])\n",
    "        y.append(data[i+seq_len][target_idx])\n",
    "    return np.array(X), np.array(y)\n",
    "\n",
    "X_seq, y_seq = create_sequences(data, target_idx=target_idx, seq_len=seq_len)\n"
   ]
  },
  {
   "cell_type": "code",
   "execution_count": 17,
   "metadata": {
    "execution": {
     "iopub.execute_input": "2025-07-13T17:58:04.583539Z",
     "iopub.status.busy": "2025-07-13T17:58:04.583270Z",
     "iopub.status.idle": "2025-07-13T17:58:04.657860Z",
     "shell.execute_reply": "2025-07-13T17:58:04.657190Z",
     "shell.execute_reply.started": "2025-07-13T17:58:04.583520Z"
    },
    "trusted": true
   },
   "outputs": [],
   "source": [
    "X_tensor = torch.tensor(X_seq, dtype=torch.float32)\n",
    "y_tensor = torch.tensor(y_seq, dtype=torch.float32)\n",
    "\n",
    "dataset = TensorDataset(X_tensor, y_tensor)\n",
    "loader = DataLoader(dataset, batch_size=64, shuffle=True)\n"
   ]
  },
  {
   "cell_type": "code",
   "execution_count": 18,
   "metadata": {
    "execution": {
     "iopub.execute_input": "2025-07-13T17:58:04.658877Z",
     "iopub.status.busy": "2025-07-13T17:58:04.658585Z",
     "iopub.status.idle": "2025-07-13T17:58:04.665493Z",
     "shell.execute_reply": "2025-07-13T17:58:04.664747Z",
     "shell.execute_reply.started": "2025-07-13T17:58:04.658851Z"
    },
    "trusted": true
   },
   "outputs": [],
   "source": [
    "class LSTMRegressor(nn.Module):\n",
    "    def __init__(self, input_dim, hidden_dim, num_layers=1):\n",
    "        super().__init__()\n",
    "        self.lstm = nn.LSTM(input_dim, hidden_dim, num_layers, batch_first=True)\n",
    "        self.fc = nn.Linear(hidden_dim, 1)\n",
    "\n",
    "    def forward(self, x):\n",
    "        out, _ = self.lstm(x)\n",
    "        out = out[:, -1, :]  # Take last timestep output\n",
    "        return self.fc(out)\n"
   ]
  },
  {
   "cell_type": "code",
   "execution_count": 19,
   "metadata": {
    "execution": {
     "iopub.execute_input": "2025-07-13T17:58:04.666406Z",
     "iopub.status.busy": "2025-07-13T17:58:04.666232Z",
     "iopub.status.idle": "2025-07-13T17:58:04.686016Z",
     "shell.execute_reply": "2025-07-13T17:58:04.685243Z",
     "shell.execute_reply.started": "2025-07-13T17:58:04.666391Z"
    },
    "trusted": true
   },
   "outputs": [],
   "source": [
    "model = LSTMRegressor(input_dim=X_seq.shape[2], hidden_dim=64).to(device)\n",
    "\n",
    "criterion = nn.MSELoss()\n",
    "optimizer = torch.optim.Adam(model.parameters(), lr=1e-3)\n"
   ]
  },
  {
   "cell_type": "code",
   "execution_count": 20,
   "metadata": {
    "execution": {
     "iopub.execute_input": "2025-07-13T17:58:04.687018Z",
     "iopub.status.busy": "2025-07-13T17:58:04.686815Z",
     "iopub.status.idle": "2025-07-13T18:10:59.984460Z",
     "shell.execute_reply": "2025-07-13T18:10:59.983568Z",
     "shell.execute_reply.started": "2025-07-13T17:58:04.686986Z"
    },
    "trusted": true
   },
   "outputs": [
    {
     "name": "stdout",
     "output_type": "stream",
     "text": [
      "Epoch 1/20, Loss: 202380.6356\n",
      "Epoch 2/20, Loss: 6520.2771\n",
      "Epoch 3/20, Loss: 10688.4228\n",
      "Epoch 4/20, Loss: 4311.3874\n",
      "Epoch 5/20, Loss: 3192.2695\n",
      "Epoch 6/20, Loss: 2383.1075\n",
      "Epoch 7/20, Loss: 2060.4732\n",
      "Epoch 8/20, Loss: 2141.4392\n",
      "Epoch 9/20, Loss: 2193.8017\n",
      "Epoch 10/20, Loss: 2207.8576\n",
      "Epoch 11/20, Loss: 1924.6780\n",
      "Epoch 12/20, Loss: 2551.2684\n",
      "Epoch 13/20, Loss: 1712.1384\n",
      "Epoch 14/20, Loss: 1828.8994\n",
      "Epoch 15/20, Loss: 1624.6852\n",
      "Epoch 16/20, Loss: 1475.0684\n",
      "Epoch 17/20, Loss: 1338.0612\n",
      "Epoch 18/20, Loss: 1568.6993\n",
      "Epoch 19/20, Loss: 1328.4019\n",
      "Epoch 20/20, Loss: 1497.5919\n"
     ]
    }
   ],
   "source": [
    "epochs = 20\n",
    "model.train()\n",
    "\n",
    "for epoch in range(epochs):\n",
    "    total_loss = 0\n",
    "    for xb, yb in loader:\n",
    "        xb, yb = xb.to(device), yb.to(device)\n",
    "\n",
    "        optimizer.zero_grad()\n",
    "        preds = model(xb).squeeze()\n",
    "        loss = criterion(preds, yb)\n",
    "        loss.backward()\n",
    "        optimizer.step()\n",
    "\n",
    "        total_loss += loss.item()\n",
    "\n",
    "    print(f\"Epoch {epoch+1}/{epochs}, Loss: {total_loss:.4f}\")\n"
   ]
  },
  {
   "cell_type": "code",
   "execution_count": 23,
   "metadata": {
    "execution": {
     "iopub.execute_input": "2025-07-13T18:36:38.386776Z",
     "iopub.status.busy": "2025-07-13T18:36:38.386079Z",
     "iopub.status.idle": "2025-07-13T18:36:50.188354Z",
     "shell.execute_reply": "2025-07-13T18:36:50.187528Z",
     "shell.execute_reply.started": "2025-07-13T18:36:38.386738Z"
    },
    "trusted": true
   },
   "outputs": [
    {
     "name": "stdout",
     "output_type": "stream",
     "text": [
      "Sample predictions: [25.339735 25.339735 25.339735 25.339735 25.339735 25.331356 25.331755\n",
      " 25.331348 25.33063  25.330732]\n",
      "Sample ground truths: [25.27592468 25.27592468 25.27592468 25.27592468 25.26962539 25.26902021\n",
      " 25.26887512 25.26836848 25.26836848 25.26836848]\n"
     ]
    }
   ],
   "source": [
    "from torch.utils.data import DataLoader\n",
    "\n",
    "model.eval()\n",
    "preds = []\n",
    "\n",
    "predict_loader = DataLoader(TensorDataset(torch.tensor(X_seq, dtype=torch.float32)),\n",
    "                            batch_size=64, shuffle=False)\n",
    "\n",
    "with torch.no_grad():\n",
    "    for xb in predict_loader:\n",
    "        xb = xb[0].to(device)\n",
    "        output = model(xb).cpu().numpy().squeeze()\n",
    "        preds.extend(output)\n",
    "\n",
    "preds = np.array(preds)\n",
    "print(\"Sample predictions:\", preds[:10])\n",
    "print(\"Sample ground truths:\", y_seq[:10])\n"
   ]
  },
  {
   "cell_type": "code",
   "execution_count": null,
   "metadata": {
    "trusted": true
   },
   "outputs": [],
   "source": []
  }
 ],
 "metadata": {
  "kaggle": {
   "accelerator": "nvidiaTeslaT4",
   "dataSources": [
    {
     "datasetId": 7855723,
     "sourceId": 12453468,
     "sourceType": "datasetVersion"
    }
   ],
   "dockerImageVersionId": 31090,
   "isGpuEnabled": true,
   "isInternetEnabled": true,
   "language": "python",
   "sourceType": "notebook"
  },
  "kernelspec": {
   "display_name": "Python 3",
   "language": "python",
   "name": "python3"
  },
  "language_info": {
   "codemirror_mode": {
    "name": "ipython",
    "version": 3
   },
   "file_extension": ".py",
   "mimetype": "text/x-python",
   "name": "python",
   "nbconvert_exporter": "python",
   "pygments_lexer": "ipython3",
   "version": "3.11.13"
  }
 },
 "nbformat": 4,
 "nbformat_minor": 4
}
